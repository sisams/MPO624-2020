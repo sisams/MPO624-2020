{
 "cells": [
  {
   "cell_type": "markdown",
   "metadata": {},
   "source": [
    "<a name=\"top\"></a>\n",
    "<div style=\"width:1000 px\">\n",
    "\n",
    "<div style=\"float:right; width:98 px; height:98px;\">\n",
    "<img src=\"https://cdn.miami.edu/_assets-common/images/system/um-logo-gray-bg.png\" alt=\"Miami Logo\" style=\"height: 98px;\">\n",
    "</div>\n",
    "\n",
    "<h1>Applied Data Analysis </h1>\n",
    "<h1>ATM/MPO 624, spring 2020</h1>\n",
    "<h2>Modeling the meaning of our data</h2>\n",
    "<h3>Epidemic math, then problems from/for our 6 class participants' efforts</h3>\n",
    "\n",
    "<div style=\"clear:both\"></div>\n",
    "</div>\n",
    "\n",
    "<hr style=\"height:2px;\">\n",
    "\n",
    "### Science from data: models of its meaning\n",
    "1. <a href=\"#epidemic\">Simplest epidemic model</a>\n",
    "1. <a href=\"#amy\">Dilution and chemistry with age: Amy's problem</a>\n",
    "1. <a href=\"#yueyang\">Eddies and mean zonal current: Yueyang's work</a>\n",
    "1. <a href=\"#ivenis\">Regressing signals in gappy SSH series: Ivenis' data</a>\n",
    "1. <a href=\"#sisam\">Averaging and emergent constraints in CERES grids: Sisam's challenge</a>\n",
    "1. <a href=\"#tyler\">NAO and PDO Index time series variance and prediction: Tyler's work</a>\n",
    "1. <a href=\"#kelsey\">Global maps regressed on climate time series (by web): Kelsey's field</a>\n",
    "1. <a href=\"#haozhe\">Haozhe, are you out there? Got a project to show/share?</a>"
   ]
  },
  {
   "cell_type": "markdown",
   "metadata": {},
   "source": [
    "<a name=\"epidemic\"></a>\n",
    "# Simple model of an epidemic: do problems at end"
   ]
  },
  {
   "cell_type": "markdown",
   "metadata": {},
   "source": [
    "### Definitions: Vulnerable, Sick, Immune\n",
    "\n",
    "Consider a fixed population (no birth or death) that can be subdivided into 3 categories: Vulnerable V, Sick S, and Recovered R. Model the transition from one state to another through infection and recovery processes. **How?** \n",
    "\n",
    "#### Infection\n",
    "Infection involves an encounter between S and V, with a lot of details we can't know. Whatever those details, we postulate that *infection doubles if S is doubled, or if V is doubled.* From this simple idea, the term must be a product (this is just like chemical kinetics). All the details can be encapsulated in a coefficient *k*, which lumps together both the social likelihood of close-range interaction and infection process details.  \n",
    "\n",
    "$dS/dt_{infection} = k \\times S \\times V$\n",
    "\n",
    "#### Recovery\n",
    "Sick people recover at some rate, and then are not vulnerable. If twice as many are sick, twice as many recover, so perhaps this proportionality is best modeled as a simple time decay:   \n",
    "\n",
    "$dS/dt_{recovery} = -S / \\tau$\n",
    "\n",
    "#### Model\n",
    "\n",
    "$dS/dt_{infection} = kSV - S / \\tau$\n",
    "\n",
    "$dV/dt_{infection} = -kSV$\n",
    "\n",
    "$dR/dt_{infection} = + S / \\tau$\n",
    "\n"
   ]
  },
  {
   "cell_type": "markdown",
   "metadata": {},
   "source": [
    "## Epidemic problems: \n",
    "\n",
    "1. What is the d/dt equation for V+S+R? (Just add the 3 equations). Discuss what processes we didn't include. \n",
    "\n",
    "1. What is the d/dt equation for total cases S+R? \n",
    "\n",
    "1. In the very early stages (t << $\\tau$, so that R << S, and V >> S is almost a constant, what is the solution S(t)? \n",
    "\n",
    "1. (**extra credit**) Is there an analytic solution for the more general case? \n",
    "\n",
    "1. We don't like that S(t) from 3., so we take steps that we hope might change the value of k. But perhaps those don't fully kick in until t > $\\tau$, an epoch when R is increasing and V begins to decrease as a signficant fraction of people have had the disease. Can we discern with data the difference between V decreasing and a decrease in the value of k? Discuss. \n",
    "\n",
    "1. Suppose $kV(0) =$ 3 days, and $\\tau = $ 10 days. Use a log10 scale on the y axis, in light of solution 3. above. Make it look like http://bmcnoldy.rsmas.miami.edu/covid19/ if you can. [Is the math too hard for people to understand?](https://www.forbes.com/sites/marshallshepherd/2020/03/23/is-the-math-too-hard-for-people-to-understand-covid-19-coronavirus) Play with k at various times, to see when and how its effect can be discerned and how that differs, from the situation where k remains constant and the infection simply runs out of V to infect. \n",
    "\n",
    "1. **Why bother with the code below when [this thing](https://gabgoh.github.io/COVID/index.html) exists?** Well, it was fun to give it a stab, and find out the Professional approach is not far from the simple ideas above!  "
   ]
  },
  {
   "cell_type": "code",
   "execution_count": 1,
   "metadata": {},
   "outputs": [],
   "source": [
    "# Poor man's epidemic calculator, \n",
    "# but just visit https://gabgoh.github.io/COVID/index.html\n",
    "\n",
    "import numpy as np\n",
    "\n",
    "# Day 1 setup. Time is discrete in days, starting at day 1 (array element 0)\n",
    "day = [1]\n",
    "V = [3.0e9] # 300 million\n",
    "S = [1.0]\n",
    "R = [0.0]\n",
    "\n",
    "# Parameters: kV(0) = 3 days\n",
    "k0 = 3/V[0]\n",
    "k = k0\n",
    "tau = 15. \n",
    "\n",
    "# simple forward time stepping by one day\n",
    "for iday in np.arange(2,365): \n",
    "    # print('day ',iday)\n",
    "    if (iday > 7): \n",
    "        k = k0/100\n",
    "    day.append([iday])\n",
    "    S.append(np.floor( S[iday-2] + k*S[iday-2]*V[iday-2]) )\n",
    "    R.append(np.floor( R[iday-2]                         + S[iday-2]/tau) )\n",
    "    V.append(np.floor( V[iday-2] - k*S[iday-2]*V[iday-2] - S[iday-2]/tau) )"
   ]
  },
  {
   "cell_type": "code",
   "execution_count": 2,
   "metadata": {},
   "outputs": [
    {
     "name": "stdout",
     "output_type": "stream",
     "text": [
      "Populating the interactive namespace from numpy and matplotlib\n"
     ]
    },
    {
     "data": {
      "text/plain": [
       "[<matplotlib.lines.Line2D at 0x7fa6d8190990>,\n",
       " <matplotlib.lines.Line2D at 0x7fa659cee0d0>,\n",
       " <matplotlib.lines.Line2D at 0x7fa659cee290>]"
      ]
     },
     "execution_count": 2,
     "metadata": {},
     "output_type": "execute_result"
    },
    {
     "name": "stderr",
     "output_type": "stream",
     "text": [
      "findfont: Font family ['xkcd', 'xkcd Script', 'Humor Sans', 'Comic Sans MS'] not found. Falling back to DejaVu Sans.\n",
      "findfont: Font family ['xkcd', 'xkcd Script', 'Humor Sans', 'Comic Sans MS'] not found. Falling back to DejaVu Sans.\n"
     ]
    },
    {
     "data": {
      "image/png": "[encoded data removed]",
      "text/plain": [
       "<Figure size 432x288 with 1 Axes>"
      ]
     },
     "metadata": {},
     "output_type": "display_data"
    }
   ],
   "source": [
    "# quick and dirty plotting, looks like my crude time stepping is unstable\n",
    "%pylab inline \n",
    "plt.xkcd() # whiteboard-like whimsical style \n",
    "plt.yscale('log')\n",
    "\n",
    "plot( np.transpose([S,R,V]) )"
   ]
  },
  {
   "cell_type": "code",
   "execution_count": 3,
   "metadata": {},
   "outputs": [
    {
     "data": {
      "text/plain": [
       "\u001b[0;31mSignature:\u001b[0m \u001b[0mplt\u001b[0m\u001b[0;34m.\u001b[0m\u001b[0myscale\u001b[0m\u001b[0;34m(\u001b[0m\u001b[0mvalue\u001b[0m\u001b[0;34m,\u001b[0m \u001b[0;34m**\u001b[0m\u001b[0mkwargs\u001b[0m\u001b[0;34m)\u001b[0m\u001b[0;34m\u001b[0m\u001b[0;34m\u001b[0m\u001b[0m\n",
       "\u001b[0;31mDocstring:\u001b[0m\n",
       "Set the y-axis scale.\n",
       "\n",
       "Parameters\n",
       "----------\n",
       "value : {\"linear\", \"log\", \"symlog\", \"logit\", ...}\n",
       "    The axis scale type to apply.\n",
       "\n",
       "**kwargs\n",
       "    Different keyword arguments are accepted, depending on the scale.\n",
       "    See the respective class keyword arguments:\n",
       "\n",
       "    - `matplotlib.scale.LinearScale`\n",
       "    - `matplotlib.scale.LogScale`\n",
       "    - `matplotlib.scale.SymmetricalLogScale`\n",
       "    - `matplotlib.scale.LogitScale`\n",
       "\n",
       "\n",
       "Notes\n",
       "-----\n",
       "By default, Matplotlib supports the above mentioned scales.\n",
       "Additionally, custom scales may be registered using\n",
       "`matplotlib.scale.register_scale`. These scales can then also\n",
       "be used here.\n",
       "\u001b[0;31mFile:\u001b[0m      ~/anaconda3/envs/unidata/lib/python3.7/site-packages/matplotlib/pyplot.py\n",
       "\u001b[0;31mType:\u001b[0m      function\n"
      ]
     },
     "metadata": {},
     "output_type": "display_data"
    }
   ],
   "source": [
    "plt.yscale?"
   ]
  },
  {
   "cell_type": "markdown",
   "metadata": {},
   "source": [
    "<a href=\"#top\">Back to top </a>"
   ]
  },
  {
   "cell_type": "markdown",
   "metadata": {},
   "source": [
    "<a name=\"amy\"></a>\n",
    "# Dilution & chemistry: all do problems; Amy do with data?"
   ]
  },
  {
   "cell_type": "markdown",
   "metadata": {},
   "source": [
    "## Chemical plume dilution (spread) and aging\n",
    "\n",
    "Suppose a unit puff of polluted air has a width W that grows exponentially with time by entrainment e ($dW/dt = eW$), and a depth D that grows more slowly and linearly with a constant deepening rate d ($dD/dt = d$). \n",
    "\n",
    "Suppose this puff contains an initial mass $M_B$ of substance B, which remains constant with time (no chemical aging), and masses $M_A$ and $M_C$ of two other substances A and C which exponentially decay with time on time scales of $\\tau_A$ and $\\tau_C$. The whole model for concentrations is thus:\n",
    "\n",
    "#### Plume spread:\n",
    "$dW/dt = eW$\n",
    "\n",
    "$dD/dt = d$\n",
    "\n",
    "#### Decay of substances A and C\n",
    "$dM_A/dt = -M_A/\\tau_A$\n",
    "\n",
    "$dM_C/dt = -M_C/\\tau_C$\n",
    "\n",
    "#### Dilution gives concentrations (the measured thing)\n",
    "$c_B = M_B / (W*D) $\n",
    "\n",
    "$c_A = M_A / (W*D) $\n",
    "\n",
    "$c_C = M_C / (W*D) $\n",
    "\n",
    "\n",
    "### Problems: \n",
    "\n",
    "1. If t=0 is the time this puff begins obeying this equation (that is, the time at which the messy surface fire emissions have become a \"puff\" in the atmosphere), what is the age decay of the concentration $c_B(t)$ in terms of parameters d and e?  \n",
    "\n",
    "1. Use the toy code below to show and explain how the ratios $c_A/c_B$ and $c_C/c_B$ are more tractable to study than the directly observed quantities $c_A$ and $c_B$. \n",
    "\n",
    "1. How would you estimate $\\tau_A$ from observations of $c_A(t)$ at known ages (times) t? \n",
    "\n",
    "**(This is just my crude recall of Amy's earlier notebook from her [fork](https://github.com/amiedobracki/MPO624-2020)). Amy feel free to take over & make it make better sense!**"
   ]
  },
  {
   "cell_type": "code",
   "execution_count": null,
   "metadata": {},
   "outputs": [],
   "source": [
    "# Toy model code - Amy is this any help? \n",
    "\n",
    "t = np.arange(0,240) # let's call them hours\n",
    "\n",
    "# Plume spread\n",
    "W0 = 100             # let's call them km\n",
    "D0 = 2               # let's call them km \n",
    "e = 1./72            # an e-folding of W in 3 days\n",
    "d = 0.01             # deepens at 1% per hour\n",
    "# Hooray exact solutions, no numerical instability like in the epidemic graph\n",
    "W = W0 * exp(e*t)\n",
    "D = D0 * (1 + d*t) \n",
    "\n",
    "# Concentrations: masses divided by plume volume \n",
    "MB0 = \n",
    "MA0 = \n",
    "MC0 = \n",
    "tauA = \n",
    "tauC = \n",
    "\n",
    "MB = MB0 \n",
    "MA = MA0 * exp(-t/tauA) # again, exact solutions, no time stepping needed\n",
    "MC = MC0 * exp(-t/tauC)\n",
    "\n",
    "cB = MB /W/D \n",
    "cA = MA /W/D\n",
    "cC = MC /W/D\n",
    "\n",
    "plot()"
   ]
  },
  {
   "cell_type": "markdown",
   "metadata": {},
   "source": [
    "<a href=\"#top\">Back to top </a>"
   ]
  },
  {
   "cell_type": "markdown",
   "metadata": {},
   "source": [
    "<a name=\"yueyang\"></a>\n",
    "# Eddies and mean flow; Yueyang model it better with data?"
   ]
  },
  {
   "cell_type": "markdown",
   "metadata": {},
   "source": [
    "## How does eddy momentum flux relate to mean shear?\n",
    "\n",
    "Suppose we have velocity (u and v as usual) in an x,y,t domain. Use the square bracket like \\[u\\](y,t) to express a zonal mean along the x axis, while u\\*(x,y,t) = u(x,y,t)-\\[u\\](y,t) indicates *eddy* deviations from that zonal mean. \n",
    "\n",
    "Eddy u-momentum flux in the meridional dimension is EMF = [u\\*v\\*]. Its convergence EMFC = $-\\partial/\\partial y(EMF)$. \n",
    "\n",
    "### Modeling the interactions\n",
    "\n",
    "We might postulate that eddy magnitude EM grows wherever the zonal mean absolute vorticity has a gradient, as strips of vorticity internal to a fluid are known to roll up into balls of vorticity by [shear instability](http://hmf.enseeiht.fr/travaux/CD0001/travaux/optmfn/hi/01pa/hyb72/kh/kh1.gif)). \n",
    "\n",
    "$\\partial/\\partial t(EM) = k_1 \\partial/\\partial y(f + \\partial [u]/\\partial y)$\n",
    "\n",
    "We might postulate that EMF increases wherever round eddies spend time in shear, becoming tilted. \n",
    "\n",
    "$\\partial/\\partial t(EMF) = k_2 (EM)\\partial [u]/\\partial y$\n",
    "\n",
    "\n",
    "We might postulate that shear evolves according to EMFC and a simple damping: \n",
    "\n",
    "$\\partial [u]/\\partial t = EMFC - [u]/\\tau $\n",
    "\n",
    "Yueyang what do you think? Maybe it's like [this paper](https://journals.ametsoc.org/doi/pdf/10.1175/JPO-D-15-0139.1)... haven't read it... \n",
    "\n",
    "**(This is just my crude recall of Yueyang's earlier notebook from his [fork](https://github.com/LuluTex/MPO624-2020)). Yueyang, feel free to take over & make it make better sense!**"
   ]
  },
  {
   "cell_type": "code",
   "execution_count": null,
   "metadata": {},
   "outputs": [],
   "source": []
  },
  {
   "cell_type": "markdown",
   "metadata": {},
   "source": [
    "<a href=\"#top\">Back to top </a>"
   ]
  },
  {
   "cell_type": "markdown",
   "metadata": {},
   "source": [
    "<a name=\"ivenis\"></a>\n",
    "# Extracting signals: all do problems; Ivenis do with data?"
   ]
  },
  {
   "cell_type": "markdown",
   "metadata": {},
   "source": [
    "## Can seasonality and trend be estimated from a gappy time series?\n",
    "\n",
    "Consider the matrix equation for a data table **d** (perhaps with just one column: a time series with gaps). We can decompose or model that data series as a linear sum of M terms.\n",
    "\n",
    "Each term is a postulated predictor time series, evaluated on the same possibly-gappy time axis as **d**, multiplied by a coefficient we will solve for. \n",
    "\n",
    "The table of all those predictors (each predictor being a column vector) is called **G**. The column vector of M coefficients is called **m**. In other words, we postulate this linear model for the data: \n",
    "\n",
    "**d** = **G** **m** + residual\n",
    "\n",
    "To estimate the best **m**, called $m_{est}$, we do a least-squares fit. (As we saw in class, minimizing the summed squared error is the same as choosing **m** so that the residual is uncorrelated with all the columns of **G**).  \n",
    "\n",
    "Left-multiplying matrices in order to solve for **m**, with a prime for transpose and inv() for the matrix inverse, we get in two steps: \n",
    "\n",
    "**d'd** = **d'G** **m**\n",
    "\n",
    "**inv(d'G)(d'd)** = **m** \n",
    "\n",
    "or \n",
    "\n",
    "**m** = **(d'G)\\\\(d'd)** in Matlab's clever notation for left-multiplying by an inverse. \n",
    "\n",
    "\n",
    "#### Problem for everyone \n",
    "\n",
    "See slide 32 in lecture lec09 [here](http://www.ldeo.columbia.edu/users/menke/edawm/eda_lectures/). This is based on Ch. 6 of  this [e-book](https://miami-primo.hosted.exlibrisgroup.com/primo-explore/fulldisplay?docid=01UOML_ALMA51300698040002976&context=L&vid=uml_new&lang=en_US&search_scope=default_scope&adaptor=Local%20Search%20Engine&isFrbr=true&tab=default_tab&query=any,contains,environmental%20data%20analysis&sortby=date&facet=frbrgroupid,include,615420309&offset=0), if you want to read a text about it. \n",
    "\n",
    "1. Write the **G** matrix in slide 32 with just 4 columns: the mean, a trend, and the seasonal cycle (sine and cosine components, most easily interpreted if you use a solstice as t=0). \n",
    "\n",
    "1. What is the variance of a linear trend with range M over a time interval? The trend goes from -M/2 to M/2 in the time interval [0,T]. To answer, sketch it, square it, and average that over the interval to get the variance in terms of M. $var(trend) = \\int_{0}^{T}Mt dt$\n",
    "\n",
    "1. What is the variance of a sinusioidal wave of amplitude A? To answer, aquare and average sin() or cos() functions over the interval [0,$2\\pi$]. Hint: it helps to remember that $sin^2 + cos^2 = 1$, and note that the variance of sin and cos are equal. \n",
    "\n",
    "1. Since the column of ones captures the mean value of the time series **d**, the trend term needs a form like $t-\\overline t$. What is the needed form of that $\\overline t$ for a gappy data record? Is it the true average of t over the time interval spanned by the data, or the simple average of t for all the available times? Explain. \n",
    "\n",
    "\n",
    "Ivenis, might you be able to use the Matlab code of problem eda06_02.m in the supplemental code .zip file at [this site](https://www.ldeo.columbia.edu/users/menke/edawm/) to do the above exercise: fitting your data as a mean, seasonal cycle, and trend without any need for gap filling. \n",
    "\n",
    "\n",
    "**(This is just my crude recall of Ivenis's earlier work, maybe in Matlab and not in his [fork](https://github.com/ivenispita/MPO624-2020))? Ivenis, feel free to take over & make it make better sense!**"
   ]
  },
  {
   "cell_type": "code",
   "execution_count": null,
   "metadata": {},
   "outputs": [],
   "source": []
  },
  {
   "cell_type": "markdown",
   "metadata": {},
   "source": [
    "<a href=\"#top\">Back to top </a>"
   ]
  },
  {
   "cell_type": "code",
   "execution_count": null,
   "metadata": {
    "collapsed": true,
    "jupyter": {
     "outputs_hidden": true
    }
   },
   "outputs": [],
   "source": []
  },
  {
   "cell_type": "code",
   "execution_count": null,
   "metadata": {
    "collapsed": true,
    "jupyter": {
     "outputs_hidden": true
    }
   },
   "outputs": [],
   "source": []
  },
  {
   "cell_type": "markdown",
   "metadata": {},
   "source": [
    "<a name=\"sisam\"></a>\n",
    "# Averaging notation: all do problems; Sisam and Haozhe try with data?"
   ]
  },
  {
   "cell_type": "markdown",
   "metadata": {},
   "source": [
    "## Subdividing time into different timescales\n",
    "\n",
    "Sisam has radiation datasets at surface and top of atmosphere, longwave and shortwave, upwelling and downwelling. Sums and differences are radiative budgets for the surface, atmosphere, or whole column. She has these for all-sky and clear-sky conditions, so clever differences can isolate the cloud effect C (sometimes called CRE, cloud radiative impacts). From upwelling longwave at the ocean surface, one could compute SST by inverting $LWUP_{sfc} = 0.98 \\sigma (SST)^4$ since 0.98 is the emissivity of sea water. \n",
    "\n",
    "Let's rewrite C's shape as a function of longitude, latitude, and time  \n",
    "\n",
    "$C(\\lambda,\\phi, t)$\n",
    "\n",
    "in a clever way, subdividing time into year (yyyy), day-of year (doy), and hour of day (hod) in an astronomical form:\n",
    "\n",
    "$C(\\lambda,\\phi, yyyy, doy, hod)$\n",
    "\n",
    "or in a  calendar-clock form as:\n",
    "\n",
    "$C(\\lambda,\\phi, yyyy, mm, dd, hh)$\n",
    "\n",
    "\n",
    "### Problems for all\n",
    "\n",
    "1. Show that the area-average over the Earth's surface requires a cosine-weighting of latitude:  \n",
    "\n",
    "$\\int_{0}^{360} \\int_{-90}^{90} C(\\lambda, \\phi, t) cos(\\phi) d\\phi d\\lambda$\n",
    "\n",
    "\n",
    "= $\\int_{0}^{360} \\int_{-1}^{1} C(\\lambda, \\phi, t) d(sin(\\phi)) d\\lambda$\n",
    "\n",
    "Let's make a notation with a dash for averaged values. For instance, the global mean climatological seasonal cycle of CRE is $C(-,-,-,doy,-)$ in astronomical form. The equatorial time-longitude section of December means is $C(\\lambda,0,yyyy,12,-,-)$ in calendar-clock form.  \n",
    "1. Write the form for the climatological annual cycle of zonal mean C. \n",
    "\n",
    "\n",
    "$C(-,\\phi,-,mm,-)$ in calendar-clock form\n",
    "\n",
    "2. Sketch a contour graph of TOA incoming radiation $I(\\lambda,-,-,-,hod)$ in astronomical form. \n",
    "\n",
    "\n",
    "3. Sketch a line graph of TOA incoming radiation I(-,0,-,doy,-), and a line graph of TOA incoming radiation I(-,90,-,doy,-).\n",
    "\n",
    "4. How would you write in this notation the multi-year equatorial time-longitude plot of C with its seasonal cycle subtracted, like the SST and u and OLR views of ENSO which we have been studying in the example notebooks? \n",
    "\n",
    "$C(\\lambda,0,yyyy,-,-)$ in calendar-clock form\n",
    "\n",
    "5. How could you express in this notation the hypothesis or posulate that the *slope of the scatter plot of C vs. T over the mean annual cycle is the same as the slope of the scatter plot of C vs. T over interannual variability* at some point in the subtropical southeast Pacific? \n",
    "\n",
    "Sisam, would you care to build the clever-differnecing and averaging tools to make these kinds of C and SST arrays, and perhaps use them to test such a hypothesis? \n",
    "\n",
    "**(This is just my crude recall of what is in Sisam's earlier work, in her [fork](https://github.com/sisams/MPO624-2020)), and seems related to Haozhe's work too [fork](https://github.com/Realmadridhz/MPO624-2020). Sisam, Haozhe, feel free to take over & make it make better sense!**"
   ]
  },
  {
   "cell_type": "code",
   "execution_count": 1,
   "metadata": {},
   "outputs": [],
   "source": [
    "import numpy as np\n",
    "import xarray as xr\n",
    "import matplotlib.pyplot as plt\n",
    "import seaborn as sns\n",
    "import pandas as pd\n",
    "from datetime import datetime"
   ]
  },
  {
   "cell_type": "code",
   "execution_count": 16,
   "metadata": {},
   "outputs": [
    {
     "data": {
      "text/html": [
       "<pre>&lt;xarray.Dataset&gt;\n",
       "Dimensions:    (lat: 180, lon: 360, nb2: 2, time: 192)\n",
       "Coordinates:\n",
       "  * lon        (lon) float64 0.5 1.5 2.5 3.5 4.5 ... 356.5 357.5 358.5 359.5\n",
       "  * lat        (lat) float64 -89.5 -88.5 -87.5 -86.5 ... 86.5 87.5 88.5 89.5\n",
       "  * time       (time) datetime64[ns] 2001-01-16T12:00:00 ... 2016-12-16T12:00:00\n",
       "Dimensions without coordinates: nb2\n",
       "Data variables:\n",
       "    lon_bnds   (lon, nb2) float64 ...\n",
       "    lat_bnds   (lat, nb2) float64 ...\n",
       "    time_bnds  (time, nb2) datetime64[ns] ...\n",
       "    rlut       (time, lat, lon) float32 ...\n",
       "    rlutcs     (time, lat, lon) float32 ...\n",
       "    rsdt       (time, lat, lon) float32 ...\n",
       "    rsut       (time, lat, lon) float32 ...\n",
       "    rsutcs     (time, lat, lon) float32 ...\n",
       "Attributes:\n",
       "    CDI:                 Climate Data Interface version 1.6.5 (http://code.zm...\n",
       "    Conventions:         CF-1.4\n",
       "    history:             Tue Jan 23 23:11:07 2018: cdo merge rlut_CERES-EBAF_...\n",
       "    source:              CERES retrievals\n",
       "    institution:         NASA Langley Research Center, Hampton, Va, USA\n",
       "    institute_id:        NASA-LaRC\n",
       "    experiment_id:       obs\n",
       "    model_id:            Obs-CERES-EBAF\n",
       "    contact:             Norman Loeb, norman.g.loeb@nasa.gov\n",
       "    references:          http://ceres.larc.nasa.gov/cmip5_data.php\n",
       "    tracking_id:         1612bae9-d0e9-4f5e-a059-e2ff12e9c79e\n",
       "    instrument:          CERES\n",
       "    processing_version:  Ed2.8\n",
       "    processing_level:    L3B\n",
       "    mip_specs:           CMIP5\n",
       "    data_structure:      grid\n",
       "    source_type:         satellite_retrieval\n",
       "    source_id:           CERES-EBAF\n",
       "    realm:               atmos\n",
       "    obs_project:         EBAF\n",
       "    product:             observations\n",
       "    frequency:           mon\n",
       "    creation_date:       2017-07-21T15:03:28Z\n",
       "    project_id:          obs4MIPs\n",
       "    table_id:            Table Amon_obs (10 March 2011) c2e3700dd6af44ea84f7a...\n",
       "    title:               Obs-CERES-EBAF model output prepared for obs4MIPs OB...\n",
       "    modeling_realm:      atmos\n",
       "    cmor_version:        2.9.1\n",
       "    CDO:                 Climate Data Operators version 1.6.5 (http://code.zm...</pre>"
      ],
      "text/plain": [
       "<xarray.Dataset>\n",
       "Dimensions:    (lat: 180, lon: 360, nb2: 2, time: 192)\n",
       "Coordinates:\n",
       "  * lon        (lon) float64 0.5 1.5 2.5 3.5 4.5 ... 356.5 357.5 358.5 359.5\n",
       "  * lat        (lat) float64 -89.5 -88.5 -87.5 -86.5 ... 86.5 87.5 88.5 89.5\n",
       "  * time       (time) datetime64[ns] 2001-01-16T12:00:00 ... 2016-12-16T12:00:00\n",
       "Dimensions without coordinates: nb2\n",
       "Data variables:\n",
       "    lon_bnds   (lon, nb2) float64 ...\n",
       "    lat_bnds   (lat, nb2) float64 ...\n",
       "    time_bnds  (time, nb2) datetime64[ns] ...\n",
       "    rlut       (time, lat, lon) float32 ...\n",
       "    rlutcs     (time, lat, lon) float32 ...\n",
       "    rsdt       (time, lat, lon) float32 ...\n",
       "    rsut       (time, lat, lon) float32 ...\n",
       "    rsutcs     (time, lat, lon) float32 ...\n",
       "Attributes:\n",
       "    CDI:                 Climate Data Interface version 1.6.5 (http://code.zm...\n",
       "    Conventions:         CF-1.4\n",
       "    history:             Tue Jan 23 23:11:07 2018: cdo merge rlut_CERES-EBAF_...\n",
       "    source:              CERES retrievals\n",
       "    institution:         NASA Langley Research Center, Hampton, Va, USA\n",
       "    institute_id:        NASA-LaRC\n",
       "    experiment_id:       obs\n",
       "    model_id:            Obs-CERES-EBAF\n",
       "    contact:             Norman Loeb, norman.g.loeb@nasa.gov\n",
       "    references:          http://ceres.larc.nasa.gov/cmip5_data.php\n",
       "    tracking_id:         1612bae9-d0e9-4f5e-a059-e2ff12e9c79e\n",
       "    instrument:          CERES\n",
       "    processing_version:  Ed2.8\n",
       "    processing_level:    L3B\n",
       "    mip_specs:           CMIP5\n",
       "    data_structure:      grid\n",
       "    source_type:         satellite_retrieval\n",
       "    source_id:           CERES-EBAF\n",
       "    realm:               atmos\n",
       "    obs_project:         EBAF\n",
       "    product:             observations\n",
       "    frequency:           mon\n",
       "    creation_date:       2017-07-21T15:03:28Z\n",
       "    project_id:          obs4MIPs\n",
       "    table_id:            Table Amon_obs (10 March 2011) c2e3700dd6af44ea84f7a...\n",
       "    title:               Obs-CERES-EBAF model output prepared for obs4MIPs OB...\n",
       "    modeling_realm:      atmos\n",
       "    cmor_version:        2.9.1\n",
       "    CDO:                 Climate Data Operators version 1.6.5 (http://code.zm..."
      ]
     },
     "execution_count": 16,
     "metadata": {},
     "output_type": "execute_result"
    }
   ],
   "source": [
    "#import data for SFC fluxes\n",
    "dataset = xr.open_dataset('/bsoden/CERES/CERES_SFC_CMIP.nc')\n",
    "\n",
    "#import data for TOA fluxes (this has 1 year extra:2017)\n",
    "dataset2 = xr.open_dataset('/bsoden/CERES/CERES_TOA_CMIP.nc')\n",
    "\n",
    "#data = dataset.sel (lat=0, method ='nearest')\n",
    "\n",
    "#slice the dataset to remove the awkward starting in 2006\n",
    "dataset=dataset.sel(time=slice(datetime(2001,1,16),datetime(2017,12,16)))\n",
    "dataset2=dataset2.sel(time=slice(datetime(2001,1,16),datetime(2017,1,1)))\n",
    "dataset2"
   ]
  },
  {
   "cell_type": "markdown",
   "metadata": {},
   "source": [
    "## Cloud Radiative Effect (C) ##\n",
    "\n",
    "$\\Delta R_{TOA} = R_{avg} - R_{clear} $\n",
    "\n",
    "\n",
    "$\\Delta R_{TOA} = \\Delta Q_{abs} - \\Delta OLR $"
   ]
  },
  {
   "cell_type": "code",
   "execution_count": 3,
   "metadata": {},
   "outputs": [],
   "source": [
    "#calculate change in absorbed solar radiation at TOA\n",
    "#My dataset doesn't have an incoming shortwave for clear sky\n",
    "sdtc = dataset2.rsdt"
   ]
  },
  {
   "cell_type": "code",
   "execution_count": 4,
   "metadata": {},
   "outputs": [],
   "source": [
    "#claculate change in outgoing longwave radiation at TOA\n",
    "\n",
    "lutc = dataset2.rlutcs - dataset2.rlut\n"
   ]
  },
  {
   "cell_type": "code",
   "execution_count": 5,
   "metadata": {},
   "outputs": [
    {
     "data": {
      "text/plain": [
       "(192, 180, 360)"
      ]
     },
     "execution_count": 5,
     "metadata": {},
     "output_type": "execute_result"
    }
   ],
   "source": [
    "#calculte TOA Cloud Radiative Effect\n",
    "\n",
    "C = sdtc - lutc\n",
    "\n",
    "C.shape"
   ]
  },
  {
   "cell_type": "code",
   "execution_count": 15,
   "metadata": {},
   "outputs": [
    {
     "data": {
      "text/plain": [
       "(192,)"
      ]
     },
     "execution_count": 15,
     "metadata": {},
     "output_type": "execute_result"
    }
   ],
   "source": [
    "Cplot=C.sel(lat=0,lon=180, method='nearest')\n",
    "\n",
    "Cplot.shape"
   ]
  },
  {
   "cell_type": "code",
   "execution_count": 8,
   "metadata": {},
   "outputs": [],
   "source": [
    "# #calculate CRE at surface\n",
    "\n",
    "# #for downwelling longwave radiation\n",
    "# ldc = dataset.rldscs - dataset.rlds\n",
    "\n",
    "# #for downwelling shortwave radiation\n",
    "# sdc = dataset.rsdscs - dataset.rsds\n",
    "\n",
    "# #for upwelling show"
   ]
  },
  {
   "cell_type": "code",
   "execution_count": 9,
   "metadata": {},
   "outputs": [],
   "source": [
    "# #check the dimension of data\n",
    "# #datas=dataset.sel(lat=0, method='nearest')\n",
    "# temp.shape\n",
    "# #np.amax(datas.rlus)"
   ]
  },
  {
   "cell_type": "code",
   "execution_count": 7,
   "metadata": {},
   "outputs": [
    {
     "data": {
      "image/png": "[encoded data removed]",
      "text/plain": [
       "<Figure size 1080x720 with 2 Axes>"
      ]
     },
     "metadata": {
      "needs_background": "light"
     },
     "output_type": "display_data"
    }
   ],
   "source": [
    "#plot timeseries for outgoing longwave radiation dataset.rlus\n",
    "#data needs to be sliced just for the equator\n",
    "\n",
    "datas=dataset.sel(lat=0, method='nearest')\n",
    "fig = plt.figure(figsize = [15,10])\n",
    "ax = fig.add_subplot(111)\n",
    "cs = ax.contourf(datas.lon, datas.time, datas.rlus, cmap='RdYlBu_r', extend='both')\n",
    "cb = plt.colorbar(cs,ticks=np.arange(380,530+10,10))\n",
    "ax.set_title('Equatorial outgoing surface longwave radiation as a function of longitude', fontsize=16)\n",
    "ax.set_xlabel('Longitude', fontsize=18)\n",
    "ax.set_ylabel('Year', fontsize=18)\n",
    "plt.show()\n"
   ]
  },
  {
   "cell_type": "markdown",
   "metadata": {},
   "source": [
    "## Surface temperature ##"
   ]
  },
  {
   "cell_type": "code",
   "execution_count": 8,
   "metadata": {},
   "outputs": [],
   "source": [
    "#calculate temperature at SFC\n",
    "\n",
    "temp = (dataset.rlus/(0.98*5.67e-8))**(1/4)\n"
   ]
  },
  {
   "cell_type": "code",
   "execution_count": 9,
   "metadata": {},
   "outputs": [],
   "source": [
    "#calculate SST for equatorial region datas. from the SB law\n",
    "tempe = (datas.rlus/(0.98*5.67e-8))**(1/4)\n",
    "#np.amax(tempe)"
   ]
  },
  {
   "cell_type": "code",
   "execution_count": 10,
   "metadata": {},
   "outputs": [
    {
     "data": {
      "image/png": "[encoded data removed]",
      "text/plain": [
       "<Figure size 1080x720 with 2 Axes>"
      ]
     },
     "metadata": {
      "needs_background": "light"
     },
     "output_type": "display_data"
    }
   ],
   "source": [
    "#plot a timeseries of equatorial SST as a function of longitude\n",
    "fig = plt.figure(figsize=[15,10])\n",
    "ax = fig.add_subplot(111)\n",
    "cs = ax.contourf(datas.lon,datas.time,tempe,cmap='RdYlBu_r',extend='both')\n",
    "cb = plt.colorbar(cs, ticks=np.arange(280,315+10,2))\n",
    "cb.set_label('SST',fontsize=16)\n",
    "ax.set_title('Equatorial SST as a function of longitude',fontsize=20)\n",
    "ax.set_xlabel('Longitude',fontsize=16)\n",
    "ax.set_ylabel('Year',fontsize=16)\n",
    "plt.show()"
   ]
  },
  {
   "cell_type": "code",
   "execution_count": 11,
   "metadata": {},
   "outputs": [
    {
     "data": {
      "text/plain": [
       "(192, 180)"
      ]
     },
     "execution_count": 11,
     "metadata": {},
     "output_type": "execute_result"
    }
   ],
   "source": [
    "#calculate zonal mean so that the data only varies temporally and meridionally\n",
    "tempm = temp.mean(axis=2)\n",
    "tempm.shape"
   ]
  },
  {
   "cell_type": "markdown",
   "metadata": {},
   "source": [
    "<a href=\"#top\">Back to top </a>"
   ]
  },
  {
   "cell_type": "markdown",
   "metadata": {},
   "source": [
    "<a name=\"tyler\"></a>\n",
    "# Time series prediction: all do problems, Tyler with data"
   ]
  },
  {
   "cell_type": "markdown",
   "metadata": {},
   "source": [
    "## Time series prediction: Markov chains and linear inverse modeling\n",
    "\n",
    "Tyler has climate-pattern index time series by month and day, such as NAO(yyyy,mm) and PDO(yyyy,mm). Let's call a generic one of these V(t) = V(yyyy,mm) for Variable, and assume it is an anomaly (the time mean has been removed). \n",
    "\n",
    "We would like to statistically predict these series into the future, by studying how they changed from month in the past. This is like a regression model: \n",
    "\n",
    "V(t+1) = c V(t) + residual \n",
    "\n",
    "which we could use to estimate c in the normal way. \n",
    "\n",
    "A forecast of the predicted signal would simply be an exponential decay of the anomaly at forecast time:\n",
    "\n",
    "V(leadtime) = V(fcst) exp(-ct)\n",
    "\n",
    "To make a formula that forecasts a time series similar to the observed, with the predicted signal but a steady variance, we need to add random numbers \n",
    "\n",
    "V(t+1) = c V(t) + (1-c) N(0, sd(V))\n",
    "\n",
    "where the new term is a particular model of the residual as random, uncorrelated noise N with standard deviation equal to that of the total data. \n",
    "\n",
    "For 0 < c < 1, this discrete formula is called Markov process (the memory is only one time step; generated value at any time depends only on the value ONE TIME STEP ago). A continuous version is called the AR1 process (autoregressive - one time step), commonly called \"red noise\" in climate, but Wikipedia redirects that to \"brown noise\", related to Brownian motion or random walks. \n",
    "\n",
    "If **V** is a vector containing 2 or more variables, with two coefficients **c**, \n",
    "\n",
    "**V(t+1)** = **V(t)** **c** + residual \n",
    "\n",
    "then the *lagged autoregression* **c** is solved for as \n",
    "\n",
    "**c** = **V(t)'V(t) \\  V(t)'V(t+1)** \n",
    "\n",
    "just as in Ivenis' problem above. \n",
    "\n",
    "#### Problems for all\n",
    "\n",
    "1. What does the last formula generate for c=0? For c=1? \n",
    "\n",
    "1. Do a univariate red noise (autoregression) computer exercise from one of [these course notebooks](https://github.com/MPOcanes/MPO624-2020/blob/master/Course_Modules_Topics_Notebooks/autoregression_in_time); this is a placeholder, not yet an assignment. \n",
    "\n",
    "1. Do a multivariate autoregression computer exercise from one of [these course notebooks](https://github.com/MPOcanes/MPO624-2020/blob/master/Course_Modules_Topics_Notebooks/autoregression_in_time); this is a placeholder, not yet an assignment. \n",
    "\n",
    "Tyler, care to try this out with your indices? \n",
    "\n",
    "**Link to Tyler's [fork](https://github.com/fensketyler/MPO624-2020). Tyler, feel free to take over & make it make better sense!**"
   ]
  },
  {
   "cell_type": "code",
   "execution_count": null,
   "metadata": {},
   "outputs": [],
   "source": []
  },
  {
   "cell_type": "markdown",
   "metadata": {},
   "source": [
    "<a href=\"#top\">Back to top </a>"
   ]
  },
  {
   "cell_type": "markdown",
   "metadata": {},
   "source": [
    "<a name=\"kelsey\"></a>\n",
    "# Regressions of fields on indices: all do this "
   ]
  },
  {
   "cell_type": "markdown",
   "metadata": {},
   "source": [
    "## Global maps associated with time series from certain regions\n",
    "\n",
    "#### Regress maps to time series with this [web engine](https://www.esrl.noaa.gov/psd/data/correlation/)\n",
    "\n",
    "#### For everyone\n",
    "Spend about an hour playing with it. Capture some interesting features and share them with the class. \n",
    "\n",
    "Notice the \"random\" time series. For your favorite signal, compare your result to the identically scaled and colored plot using a random time series. How much of the signal pattern should you trust, based on your record length? "
   ]
  },
  {
   "cell_type": "code",
   "execution_count": null,
   "metadata": {},
   "outputs": [],
   "source": []
  },
  {
   "cell_type": "markdown",
   "metadata": {},
   "source": [
    "<a href=\"#top\">Back to top </a>"
   ]
  },
  {
   "cell_type": "markdown",
   "metadata": {},
   "source": [
    "<a name=\"haozhe\"></a>\n",
    "# Haozhe, what's your work and project? Got questions?"
   ]
  },
  {
   "cell_type": "markdown",
   "metadata": {},
   "source": [
    "## Problems we can all appreciate and play with? "
   ]
  },
  {
   "cell_type": "code",
   "execution_count": null,
   "metadata": {},
   "outputs": [],
   "source": []
  },
  {
   "cell_type": "markdown",
   "metadata": {},
   "source": [
    "<a href=\"#top\">Back to top </a>"
   ]
  },
  {
   "cell_type": "code",
   "execution_count": null,
   "metadata": {},
   "outputs": [],
   "source": []
  },
  {
   "cell_type": "code",
   "execution_count": null,
   "metadata": {},
   "outputs": [],
   "source": []
  },
  {
   "cell_type": "code",
   "execution_count": null,
   "metadata": {},
   "outputs": [],
   "source": []
  }
 ],
 "metadata": {
  "kernelspec": {
   "display_name": "Python 3",
   "language": "python",
   "name": "python3"
  },
  "language_info": {
   "codemirror_mode": {
    "name": "ipython",
    "version": 3
   },
   "file_extension": ".py",
   "mimetype": "text/x-python",
   "name": "python",
   "nbconvert_exporter": "python",
   "pygments_lexer": "ipython3",
   "version": "3.7.6"
  }
 },
 "nbformat": 4,
 "nbformat_minor": 4
}
